{
 "cells": [
  {
   "cell_type": "code",
   "execution_count": 4,
   "metadata": {
    "collapsed": true
   },
   "outputs": [],
   "source": [
    "import numpy as np\n",
    "\n",
    "from ifqi import envs\n",
    "from ifqi.evaluation import evaluation"
   ]
  },
  {
   "cell_type": "code",
   "execution_count": 5,
   "metadata": {
    "collapsed": false
   },
   "outputs": [],
   "source": [
    "mdp = envs.LQG1D()\n",
    "state_dim, action_dim, reward_dim = envs.get_space_info(mdp)\n",
    "actions = np.linspace(-8, 8, 100)"
   ]
  },
  {
   "cell_type": "code",
   "execution_count": 6,
   "metadata": {
    "collapsed": false
   },
   "outputs": [],
   "source": [
    "dataset = evaluation.collect_episodes(mdp, n_episodes=2000)"
   ]
  },
  {
   "cell_type": "code",
   "execution_count": 7,
   "metadata": {
    "collapsed": false
   },
   "outputs": [
    {
     "data": {
      "text/plain": [
       "100"
      ]
     },
     "execution_count": 7,
     "metadata": {},
     "output_type": "execute_result"
    }
   ],
   "source": [
    "mdp.horizon"
   ]
  },
  {
   "cell_type": "code",
   "execution_count": 8,
   "metadata": {
    "collapsed": false
   },
   "outputs": [
    {
     "data": {
      "text/plain": [
       "(200000, 6)"
      ]
     },
     "execution_count": 8,
     "metadata": {},
     "output_type": "execute_result"
    }
   ],
   "source": [
    "thetadataset.shape[0]"
   ]
  },
  {
   "cell_type": "code",
   "execution_count": 9,
   "metadata": {
    "collapsed": false
   },
   "outputs": [],
   "source": [
    "winning_states = list(filter(lambda data: data[4] != 0, dataset))"
   ]
  },
  {
   "cell_type": "code",
   "execution_count": 10,
   "metadata": {
    "collapsed": false
   },
   "outputs": [
    {
     "data": {
      "text/plain": [
       "[]"
      ]
     },
     "execution_count": 10,
     "metadata": {},
     "output_type": "execute_result"
    }
   ],
   "source": [
    "winning_states"
   ]
  },
  {
   "cell_type": "code",
   "execution_count": 11,
   "metadata": {
    "collapsed": false
   },
   "outputs": [],
   "source": [
    "class PBO:\n",
    "    \n",
    "    def __init__(self, theta, actions, training_set, gamma=1):\n",
    "        self.theta = theta\n",
    "        self.actions = actions\n",
    "        self.training_set = training_set\n",
    "        self.gamma = gamma\n",
    "        \n",
    "    def fitness(self, ro):\n",
    "        return sum((self.Q(s, a, f_theta) - r - self.gamma *\n",
    "                    max(self.Q(ns, a, theta) for a in self.actions) ) ** 2\n",
    "                   for (s, a, r, ns, *_), (theta, f_theta)\n",
    "                   in zip(self.training_set, self.theta_seq(ro)))\n",
    "            \n",
    "    def Q(self, s, a, theta):\n",
    "        k, b = theta\n",
    "        return b - (a - k * s) ** 2\n",
    "    \n",
    "    def theta_seq(self, ro):\n",
    "        theta = self.theta\n",
    "        self.theta = self.f(ro, theta)\n",
    "        yield theta, self.theta\n",
    "        \n",
    "    def f(self, ro, theta):\n",
    "        return ro.T * theta"
   ]
  },
  {
   "cell_type": "code",
   "execution_count": 12,
   "metadata": {
    "collapsed": false
   },
   "outputs": [
    {
     "data": {
      "text/plain": [
       "144.73740470004282"
      ]
     },
     "execution_count": 12,
     "metadata": {},
     "output_type": "execute_result"
    }
   ],
   "source": [
    "gammapbo = PBO(np.array([1, 0]), actions, dataset)\n",
    "pbo.fitness(np.array([1, 1]))"
   ]
  },
  {
   "cell_type": "code",
   "execution_count": 13,
   "metadata": {
    "collapsed": false
   },
   "outputs": [
    {
     "name": "stderr",
     "output_type": "stream",
     "text": [
      "/home/tyrion/.local/lib/python3.5/site-packages/pybrain/optimization/distributionbased/ves.py:83: VisibleDeprecationWarning: using a non-integer number instead of an integer will result in an error in the future\n",
      "  self.phiSquareWindow = zeros((self.batchSize, self.numDistrParams))\n"
     ]
    }
   ],
   "source": [
    "from pybrain.optimization import ExactNES\n",
    "\n",
    "ro_i = np.array([1, 1])\n",
    "optimizer = ExactNES(pbo.fitness, ro_i, minimize=True)"
   ]
  },
  {
   "cell_type": "code",
   "execution_count": 16,
   "metadata": {
    "collapsed": false
   },
   "outputs": [
    {
     "name": "stderr",
     "output_type": "stream",
     "text": [
      "/home/tyrion/.local/lib/python3.5/site-packages/pybrain/optimization/distributionbased/ves.py:89: FutureWarning: comparison to `None` will result in an elementwise object comparison in the future.\n",
      "  if z == None:\n",
      "/home/tyrion/.local/lib/python3.5/site-packages/ipykernel/__main__.py:12: RuntimeWarning: overflow encountered in double_scalars\n",
      "WARNING:root:Algorithm diverged. Stopped after 305 learning steps.\n",
      "[2016-11-20 18:34:31,276] Algorithm diverged. Stopped after 305 learning steps.\n"
     ]
    },
    {
     "data": {
      "text/plain": [
       "(array([-1.86597057, -1.73737723]), 0.077457038620063201)"
      ]
     },
     "execution_count": 16,
     "metadata": {},
     "output_type": "execute_result"
    }
   ],
   "source": [
    "ro, score = optimizer.learn()\n",
    "ro, score"
   ]
  }
 ],
 "metadata": {
  "kernelspec": {
   "display_name": "Python 2",
   "language": "python",
   "name": "python2"
  },
  "language_info": {
   "codemirror_mode": {
    "name": "ipython",
    "version": 2.0
   },
   "file_extension": ".py",
   "mimetype": "text/x-python",
   "name": "python",
   "nbconvert_exporter": "python",
   "pygments_lexer": "ipython2",
   "version": "2.7.12"
  }
 },
 "nbformat": 4,
 "nbformat_minor": 0
}